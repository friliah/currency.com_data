{
 "cells": [
  {
   "cell_type": "markdown",
   "metadata": {},
   "source": [
    "Необходимо последовательно выполнить все ячейки (нажимать на кнопку run или shift+enter)"
   ]
  },
  {
   "cell_type": "markdown",
   "metadata": {},
   "source": [
    "# Получение данные\n",
    "Число должно быть 200, если другое, попробовать выполнить ячейку еще раз"
   ]
  },
  {
   "cell_type": "code",
   "execution_count": null,
   "metadata": {},
   "outputs": [],
   "source": [
    "import requests\n",
    "base_url = 'https://api-adapter.backend.currency.com'\n",
    "endpoint = '/api/v1/ticker/24hr'\n",
    "#endpoint = '/api/v1/ticker/24hr?symbol=BTC/USD'\n",
    "#endpoint = '/api/v1/time'\n",
    "r = requests.get(base_url+endpoint)\n",
    "resp = r.json()\n",
    "r.status_code"
   ]
  },
  {
   "cell_type": "markdown",
   "metadata": {},
   "source": [
    "# Количество пар"
   ]
  },
  {
   "cell_type": "code",
   "execution_count": null,
   "metadata": {},
   "outputs": [],
   "source": [
    "counter = 0\n",
    "res = {}\n",
    "for item in resp:\n",
    "    if not item['quoteVolume']:continue\n",
    "    if float(item['quoteVolume']) != 0:\n",
    "        res[item['symbol']] = float(item['quoteVolume'])\n",
    "        #print(item)\n",
    "        counter += 1\n",
    "print('Всего пар:', len(resp))\n",
    "print('Пар с ненулевым объемом:',counter)"
   ]
  },
  {
   "cell_type": "markdown",
   "metadata": {},
   "source": [
    "# Топ объемов за 24 часа\n",
    "вот топ в котируемой валюте, то бишь второй тикер пары))\n",
    "если оная не отличается сильно от бакса, можно считать, что это бакс :D насколько я вижу, тут только ру рубль отличается сильно и иена"
   ]
  },
  {
   "cell_type": "code",
   "execution_count": null,
   "metadata": {},
   "outputs": [],
   "source": [
    "{k: v for k, v in sorted(res.items(), key=lambda item: item[1], reverse=True)}"
   ]
  },
  {
   "cell_type": "markdown",
   "metadata": {},
   "source": [
    "## Суммарный объем, если удалить 'GBP/JPY', 'USD/JPY'"
   ]
  },
  {
   "cell_type": "code",
   "execution_count": null,
   "metadata": {},
   "outputs": [],
   "source": [
    "entriesToRemove = ('GBP/JPY', 'USD/JPY')\n",
    "for k in entriesToRemove:\n",
    "    res.pop(k, None)\n",
    "'{:,}'.format(sum(res.values())).replace(',', ' ')"
   ]
  }
 ],
 "metadata": {
  "kernelspec": {
   "display_name": "Python 3",
   "language": "python",
   "name": "python3"
  },
  "language_info": {
   "codemirror_mode": {
    "name": "ipython",
    "version": 3
   },
   "file_extension": ".py",
   "mimetype": "text/x-python",
   "name": "python",
   "nbconvert_exporter": "python",
   "pygments_lexer": "ipython3",
   "version": "3.7.3"
  }
 },
 "nbformat": 4,
 "nbformat_minor": 2
}
